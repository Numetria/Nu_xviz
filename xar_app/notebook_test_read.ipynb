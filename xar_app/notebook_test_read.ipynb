{
 "cells": [
  {
   "cell_type": "code",
   "execution_count": 19,
   "metadata": {},
   "outputs": [],
   "source": [
    "import xarray as xr\n",
    "import json\n",
    "\n",
    "ds = xr.open_dataset('/Users/nalex2023/Downloads/sst.mnmean.nc')\n",
    "\n"
   ]
  },
  {
   "cell_type": "markdown",
   "metadata": {},
   "source": [
    "# Spatial and time coordinate checks"
   ]
  },
  {
   "cell_type": "code",
   "execution_count": 86,
   "metadata": {},
   "outputs": [
    {
     "name": "stdout",
     "output_type": "stream",
     "text": [
      "1981-12-01 00:00:00 to 2023-01-01 00:00:00\n"
     ]
    }
   ],
   "source": [
    "import pandas as pd\n",
    "\n",
    "\n",
    "coord_names = list(ds.coords.keys())\n",
    "\n",
    "\n",
    "time_exists = \"time\" in {str(word).lower() for word in coord_names}\n",
    "\n",
    "time_coord_name = next((coord for coord in ds.coords if 'time' in coord.lower()), None)\n",
    "\n",
    "lat_exists = any(word.lower() in [\"lat\", \"latitude\"] for word in coord_names)\n",
    "\n",
    "lon_exists = any(word.lower() in ['lon','longitude'] for word in coord_names)\n",
    "\n",
    "\n",
    "if lat_exists and lon_exists:\n",
    "    spatial = True\n",
    "else:\n",
    "    spatial = False\n",
    "\n",
    "\n",
    "times = pd.to_datetime(ds[time_coord_name].values).strftime('%Y-%m-%d %H:%M:%S')\n",
    "\n",
    "time_txt = f'{times[0]} to {times[-1]}'\n",
    "\n",
    "print(time_txt)\n"
   ]
  },
  {
   "cell_type": "code",
   "execution_count": 73,
   "metadata": {},
   "outputs": [
    {
     "data": {
      "text/plain": [
       "ValuesView(<xarray.Dataset>\n",
       "Dimensions:  (lat: 180, lon: 360, time: 494)\n",
       "Coordinates:\n",
       "  * lat      (lat) float32 89.5 88.5 87.5 86.5 85.5 ... -86.5 -87.5 -88.5 -89.5\n",
       "  * lon      (lon) float32 0.5 1.5 2.5 3.5 4.5 ... 355.5 356.5 357.5 358.5 359.5\n",
       "  * time     (time) datetime64[ns] 1981-12-01 1982-01-01 ... 2023-01-01\n",
       "Data variables:\n",
       "    *empty*\n",
       "Attributes:\n",
       "    title:          NOAA Optimum Interpolation (OI) SST V2\n",
       "    Conventions:    CF-1.0\n",
       "    history:        Wed Apr  6 13:47:45 2005: ncks -d time,0,278 SAVEs/sst.mn...\n",
       "    comments:       Data described in  Reynolds, R.W., N.A. Rayner, T.M.\\nSmi...\n",
       "    platform:       Model\n",
       "    source:         NCEP Climate Modeling Branch\n",
       "    institution:    National Centers for Environmental Prediction\n",
       "    References:     https://www.psl.noaa.gov/data/gridded/data.noaa.oisst.v2....\n",
       "    dataset_title:  NOAA Optimum Interpolation (OI) SST V2\n",
       "    source_url:     http://www.emc.ncep.noaa.gov/research/cmb/sst_analysis/)"
      ]
     },
     "execution_count": 73,
     "metadata": {},
     "output_type": "execute_result"
    }
   ],
   "source": []
  },
  {
   "cell_type": "code",
   "execution_count": null,
   "metadata": {},
   "outputs": [],
   "source": []
  }
 ],
 "metadata": {
  "kernelspec": {
   "display_name": "nma",
   "language": "python",
   "name": "python3"
  },
  "language_info": {
   "codemirror_mode": {
    "name": "ipython",
    "version": 3
   },
   "file_extension": ".py",
   "mimetype": "text/x-python",
   "name": "python",
   "nbconvert_exporter": "python",
   "pygments_lexer": "ipython3",
   "version": "3.12.0"
  }
 },
 "nbformat": 4,
 "nbformat_minor": 2
}
