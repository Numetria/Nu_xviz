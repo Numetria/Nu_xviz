{
 "cells": [
  {
   "cell_type": "code",
   "execution_count": 1,
   "metadata": {},
   "outputs": [],
   "source": [
    "import xarray as xr\n",
    "import json\n",
    "\n",
    "ds = xr.open_dataset('/Users/nalex2023/main/Nu_xviz/test_data/hourly_ave.nc')\n",
    "\n",
    "\n"
   ]
  },
  {
   "cell_type": "markdown",
   "metadata": {},
   "source": [
    "# Spatial and time coordinate checks"
   ]
  },
  {
   "cell_type": "code",
   "execution_count": 4,
   "metadata": {},
   "outputs": [
    {
     "name": "stdout",
     "output_type": "stream",
     "text": [
      "No time dimension found\n"
     ]
    }
   ],
   "source": [
    "import pandas as pd\n",
    "\n",
    "\n",
    "coord_names = list(ds.coords.keys())\n",
    "\n",
    "\n",
    "time_exists = \"time\" in {str(word).lower() for word in coord_names}\n",
    "\n",
    "time_coord_name = next((coord for coord in ds.coords if 'time' in coord.lower()), None)\n",
    "\n",
    "lat_exists = any(word.lower() in [\"lat\", \"latitude\"] for word in coord_names)\n",
    "\n",
    "lon_exists = any(word.lower() in ['lon','longitude'] for word in coord_names)\n",
    "\n",
    "\n",
    "if lat_exists and lon_exists:\n",
    "    spatial = True\n",
    "else:\n",
    "    spatial = False\n",
    "\n",
    "if time_exists:\n",
    "    times = pd.to_datetime(ds[time_coord_name].values).strftime('%Y-%m-%d %H:%M:%S')\n",
    "\n",
    "    time_txt = f'{times[0]} to {times[-1]}'\n",
    "\n",
    "else:\n",
    "    time_txt = \"No time dimension found\"\n",
    "\n",
    "print(time_txt)\n"
   ]
  },
  {
   "cell_type": "code",
   "execution_count": 1,
   "metadata": {},
   "outputs": [],
   "source": [
    "import tempfile"
   ]
  },
  {
   "cell_type": "code",
   "execution_count": null,
   "metadata": {},
   "outputs": [],
   "source": []
  }
 ],
 "metadata": {
  "kernelspec": {
   "display_name": "nma",
   "language": "python",
   "name": "python3"
  },
  "language_info": {
   "codemirror_mode": {
    "name": "ipython",
    "version": 3
   },
   "file_extension": ".py",
   "mimetype": "text/x-python",
   "name": "python",
   "nbconvert_exporter": "python",
   "pygments_lexer": "ipython3",
   "version": "3.12.0"
  }
 },
 "nbformat": 4,
 "nbformat_minor": 2
}
