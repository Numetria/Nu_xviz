{
 "cells": [
  {
   "cell_type": "code",
   "execution_count": 3,
   "metadata": {},
   "outputs": [],
   "source": [
    "\n",
    "\n",
    "test_data = '/Users/nalex2023/main/Nu_xviz/test_data/hourly_ave.nc'"
   ]
  },
  {
   "cell_type": "code",
   "execution_count": 4,
   "metadata": {},
   "outputs": [
    {
     "name": "stdout",
     "output_type": "stream",
     "text": [
      "{'detail': \"Error processing file: found the following matches with the input file in xarray's IO backends: ['h5netcdf']. But their dependencies may not be installed, see:\\nhttps://docs.xarray.dev/en/stable/user-guide/io.html \\nhttps://docs.xarray.dev/en/stable/getting-started-guide/installing.html\"}\n"
     ]
    }
   ],
   "source": [
    "\n",
    "import requests\n",
    "\n",
    "url = \"http://127.0.0.1:8000/upload/\"\n",
    "files = {'file': open(test_data, 'rb')}\n",
    "\n",
    "response = requests.post(url, files=files)\n",
    "print(response.json())"
   ]
  }
 ],
 "metadata": {
  "kernelspec": {
   "display_name": "nma",
   "language": "python",
   "name": "python3"
  },
  "language_info": {
   "codemirror_mode": {
    "name": "ipython",
    "version": 3
   },
   "file_extension": ".py",
   "mimetype": "text/x-python",
   "name": "python",
   "nbconvert_exporter": "python",
   "pygments_lexer": "ipython3",
   "version": "3.12.0"
  }
 },
 "nbformat": 4,
 "nbformat_minor": 2
}
